{
 "cells": [
  {
   "cell_type": "markdown",
   "metadata": {},
   "source": [
    "# Manipulating Data in DataFrames HW\n",
    "\n",
    "\n",
    "#### Let's get started applying what we learned in the lecure!\n",
    "\n",
    "I've provided several questions below to help test and expand you knowledge from the code along lecture. So let's see what you've got!\n",
    "\n",
    "First create your spark instance as we need to do at the start of every project."
   ]
  },
  {
   "cell_type": "code",
   "execution_count": 9,
   "metadata": {
    "tags": []
   },
   "outputs": [],
   "source": [
    "import pyspark\n",
    "from pyspark.sql import SparkSession\n",
    "spark = SparkSession.builder.getOrCreate()"
   ]
  },
  {
   "cell_type": "markdown",
   "metadata": {
    "tags": []
   },
   "source": [
    "## Read in our Republican vs. Democrats Tweet DataFrame\n",
    "\n",
    "Attached to the lecture"
   ]
  },
  {
   "cell_type": "code",
   "execution_count": 8,
   "metadata": {
    "tags": []
   },
   "outputs": [],
   "source": [
    "extracted = spark.read.csv(\"ExtractedTweets.csv\", header=True)\n",
    "handles = spark.read.csv(\"TwitterHandles.csv\", header=True)"
   ]
  },
  {
   "cell_type": "code",
   "execution_count": 9,
   "metadata": {
    "tags": []
   },
   "outputs": [
    {
     "name": "stdout",
     "output_type": "stream",
     "text": [
      "+--------------------+-------------+--------------------+\n",
      "|               Party|       Handle|               Tweet|\n",
      "+--------------------+-------------+--------------------+\n",
      "|            Democrat|RepDarrenSoto|Today, Senate Dem...|\n",
      "|            Democrat|RepDarrenSoto|RT @WinterHavenSu...|\n",
      "|            Democrat|RepDarrenSoto|RT @NBCLatino: .@...|\n",
      "|Congress has allo...|         NULL|                NULL|\n",
      "|            Democrat|RepDarrenSoto|RT @NALCABPolicy:...|\n",
      "|            Democrat|RepDarrenSoto|RT @Vegalteno: Hu...|\n",
      "|            Democrat|RepDarrenSoto|RT @EmgageActionF...|\n",
      "|            Democrat|RepDarrenSoto|Hurricane Maria l...|\n",
      "|            Democrat|RepDarrenSoto|RT @Tharryry: I a...|\n",
      "|            Democrat|RepDarrenSoto|RT @HispanicCaucu...|\n",
      "|            Democrat|RepDarrenSoto|RT @RepStephMurph...|\n",
      "|            Democrat|RepDarrenSoto|RT @AllSaints_FL:...|\n",
      "|            Democrat|RepDarrenSoto|.@realDonaldTrump...|\n",
      "|            Democrat|RepDarrenSoto|Thank you to my m...|\n",
      "|            Democrat|RepDarrenSoto|We paid our respe...|\n",
      "|Sgt Sam Howard - ...|         NULL|                NULL|\n",
      "|            Democrat|RepDarrenSoto|RT @WinterHavenSu...|\n",
      "|            Democrat|RepDarrenSoto|Meet 12 incredibl...|\n",
      "|            Democrat|RepDarrenSoto|RT @wildlifeactio...|\n",
      "|            Democrat|RepDarrenSoto|RT @CHeathWFTV: K...|\n",
      "+--------------------+-------------+--------------------+\n",
      "only showing top 20 rows\n",
      "\n"
     ]
    }
   ],
   "source": [
    "extracted.show()"
   ]
  },
  {
   "cell_type": "markdown",
   "metadata": {},
   "source": [
    "**Prevent Truncation of view**\n",
    "\n",
    "If the view you produced above truncated some of the longer tweets, see if you can prevent that so you can read the whole tweet."
   ]
  },
  {
   "cell_type": "code",
   "execution_count": 10,
   "metadata": {
    "tags": []
   },
   "outputs": [
    {
     "name": "stdout",
     "output_type": "stream",
     "text": [
      "+----------------------------------------------------+-------------+--------------------------------------------------------------------------------------------------------------------------------------------+\n",
      "|Party                                               |Handle       |Tweet                                                                                                                                       |\n",
      "+----------------------------------------------------+-------------+--------------------------------------------------------------------------------------------------------------------------------------------+\n",
      "|Democrat                                            |RepDarrenSoto|Today, Senate Dems vote to #SaveTheInternet. Proud to support similar #NetNeutrality legislation here in the House… https://t.co/n3tggDLU1L |\n",
      "|Democrat                                            |RepDarrenSoto|RT @WinterHavenSun: Winter Haven resident / Alta Vista teacher is one of several recognized by @RepDarrenSoto for National Teacher Apprecia…|\n",
      "|Democrat                                            |RepDarrenSoto|RT @NBCLatino: .@RepDarrenSoto noted that Hurricane Maria has left approximately $90 billion in damages.                                    |\n",
      "|Congress has allocated about $18…\"                  |NULL         |NULL                                                                                                                                        |\n",
      "|Democrat                                            |RepDarrenSoto|RT @NALCABPolicy: Meeting with @RepDarrenSoto . Thanks for taking the time to meet with @LatinoLeader ED Marucci Guzman. #NALCABPolicy2018.…|\n",
      "|Democrat                                            |RepDarrenSoto|RT @Vegalteno: Hurricane season starts on June 1st; Puerto Rico’s readiness...well 🤦🏼‍♂️😡😩@Pwr4PuertoRico @RepDarrenSoto @EspaillatNY   |\n",
      "|Democrat                                            |RepDarrenSoto|RT @EmgageActionFL: Thank you to all who came out to our Orlando gala! It was a successful night that would not have been possible without… |\n",
      "|Democrat                                            |RepDarrenSoto|Hurricane Maria left approx $90 billion in damages, yet only $1 billion was allocated for rebuilding grid. No surpr… https://t.co/2kU8BcKwUh|\n",
      "|Democrat                                            |RepDarrenSoto|RT @Tharryry: I am delighted that @RepDarrenSoto will be voting for the CRA to overrule the FCC and save our #NetNeutrality rules. Find out…|\n",
      "|Democrat                                            |RepDarrenSoto|RT @HispanicCaucus: Trump's anti-immigrant policies are hurting small businesses across the country that can’t find Americans willing to do…|\n",
      "|Democrat                                            |RepDarrenSoto|RT @RepStephMurphy: Great joining @WeAreUnidosUS and @RepDarrenSoto for a roundtable in #Orlando on federal issues affecting central Florid…|\n",
      "|Democrat                                            |RepDarrenSoto|RT @AllSaints_FL: Zhihan (John)'s art received awards at this year's state competitions. We just found out he's won the Congressional Distr…|\n",
      "|Democrat                                            |RepDarrenSoto|.@realDonaldTrump official policy to separate immigrant children from their mothers is definition of cruelty… https://t.co/jCrURA4oLz       |\n",
      "|Democrat                                            |RepDarrenSoto|Thank you to my mom Jean and all the mothers across this nation! You are raising our future. Have a… https://t.co/MXES0r31VH                |\n",
      "|Democrat                                            |RepDarrenSoto|We paid our respects at Nat’l Law Enforcement Officers Memorial today for those we lost:                                                    |\n",
      "|Sgt Sam Howard - Kissimmee… https://t.co/UzPxIVBMYW\"|NULL         |NULL                                                                                                                                        |\n",
      "|Democrat                                            |RepDarrenSoto|RT @WinterHavenSun: Congratulations to  @AHSbloodhounds senior Abygayle Rausch for starting her service to the country at the US Naval Acad…|\n",
      "|Democrat                                            |RepDarrenSoto|Meet 12 incredible young leaders appointed to US Military Academies from our District! @HispanicCaucus… https://t.co/lND3zgvJ55             |\n",
      "|Democrat                                            |RepDarrenSoto|RT @wildlifeaction: With 1/3 of US wildlife in decline, Florida species like the snowy plover need advocates! As co-sponsors for the Recove…|\n",
      "|Democrat                                            |RepDarrenSoto|RT @CHeathWFTV: Keeping guns out of the wrong hands: following @WFTV report, @RepDarrenSoto asks ATF to look into so-called ghost guns (fir…|\n",
      "+----------------------------------------------------+-------------+--------------------------------------------------------------------------------------------------------------------------------------------+\n",
      "only showing top 20 rows\n",
      "\n"
     ]
    }
   ],
   "source": [
    "extracted.show(truncate=False)"
   ]
  },
  {
   "cell_type": "code",
   "execution_count": 11,
   "metadata": {
    "tags": []
   },
   "outputs": [
    {
     "name": "stdout",
     "output_type": "stream",
     "text": [
      "+--------+--------------------+---------------+---------------------------------------------------------------------------+\n",
      "|Party   |Name                |Handle         |AvatarURL                                                                  |\n",
      "+--------+--------------------+---------------+---------------------------------------------------------------------------+\n",
      "|Democrat|US Rep. Darren Soto |RepDarrenSoto  |https://pbs.twimg.com/profile_images/824454906446745601/DtndIYe0_bigger.jpg|\n",
      "|Democrat|Rep. Jacky Rosen    |RepJackyRosen  |https://pbs.twimg.com/profile_images/837772241077170177/VOpyOjAj_bigger.jpg|\n",
      "|Democrat|US Rep. Al Lawson Jr|RepAlLawsonJr  |https://pbs.twimg.com/profile_images/818493713991213056/U3FMB3nB_bigger.jpg|\n",
      "|Democrat|Adriano Espaillat   |RepEspaillat   |https://pbs.twimg.com/profile_images/827580972442988545/RJ5H4gCN_bigger.jpg|\n",
      "|Democrat|US Rep. Darren Soto |RepDarrenSoto  |https://pbs.twimg.com/profile_images/824454906446745601/DtndIYe0_normal.jpg|\n",
      "|Democrat|Rep. Jacky Rosen    |RepJackyRosen  |https://pbs.twimg.com/profile_images/837772241077170177/VOpyOjAj_normal.jpg|\n",
      "|Democrat|US Rep. Al Lawson Jr|RepAlLawsonJr  |https://pbs.twimg.com/profile_images/818493713991213056/U3FMB3nB_normal.jpg|\n",
      "|Democrat|Adriano Espaillat   |RepEspaillat   |https://pbs.twimg.com/profile_images/827580972442988545/RJ5H4gCN_normal.jpg|\n",
      "|Democrat|Rep. Blunt Rochester|RepBRochester  |https://pbs.twimg.com/profile_images/912673706601672705/Ttjyw2Uv_normal.jpg|\n",
      "|Democrat|Nanette D. Barragán |RepBarragan    |https://pbs.twimg.com/profile_images/978337845428420610/dYCHO_Ml_normal.jpg|\n",
      "|Democrat|Tom Suozzi          |RepTomSuozzi   |https://pbs.twimg.com/profile_images/841322504752943107/hbNrycrY_normal.jpg|\n",
      "|Democrat|Rep. Ro Khanna      |RepRoKhanna    |https://pbs.twimg.com/profile_images/980828338699849728/zwXDcKXp_normal.jpg|\n",
      "|Democrat|Rep. Ruben J. Kihuen|RepKihuen      |https://pbs.twimg.com/profile_images/953714217236029442/3q3n22G-_normal.jpg|\n",
      "|Democrat|Rep. Donald McEachin|RepMcEachin    |https://pbs.twimg.com/profile_images/948252111514546176/9UnTWRH__normal.jpg|\n",
      "|Democrat|Rep. Salud Carbajal |RepCarbajal    |https://pbs.twimg.com/profile_images/995074405402382337/UkFKFk0c_normal.jpg|\n",
      "|Democrat|Rep. Charlie Crist  |RepCharlieCrist|https://pbs.twimg.com/profile_images/821404691007471616/coBO0h0x_normal.jpg|\n",
      "|Democrat|Rep. Lou Correa     |RepLouCorrea   |https://pbs.twimg.com/profile_images/958720189897625601/c-SpjpEc_normal.jpg|\n",
      "|Democrat|Rep. Pramila Jayapal|RepJayapal     |https://pbs.twimg.com/profile_images/978268908057751552/LdIDc0tc_normal.jpg|\n",
      "|Democrat|Rep Josh Gottheimer |RepJoshG       |https://pbs.twimg.com/profile_images/824380405482668042/TGcE_Hz0_normal.jpg|\n",
      "|Democrat|Raja Krishnamoorthi |CongressmanRaja|https://pbs.twimg.com/profile_images/817454739910750209/-LvcQa9a_normal.jpg|\n",
      "+--------+--------------------+---------------+---------------------------------------------------------------------------+\n",
      "only showing top 20 rows\n",
      "\n"
     ]
    }
   ],
   "source": [
    "handles.show(truncate=False)"
   ]
  },
  {
   "cell_type": "markdown",
   "metadata": {},
   "source": [
    "**Print Schema**\n",
    "\n",
    "First, check the schema to make sure the datatypes are accurate. "
   ]
  },
  {
   "cell_type": "code",
   "execution_count": 12,
   "metadata": {
    "tags": []
   },
   "outputs": [
    {
     "name": "stdout",
     "output_type": "stream",
     "text": [
      "root\n",
      " |-- Party: string (nullable = true)\n",
      " |-- Handle: string (nullable = true)\n",
      " |-- Tweet: string (nullable = true)\n",
      "\n"
     ]
    }
   ],
   "source": [
    "extracted.printSchema()"
   ]
  },
  {
   "cell_type": "code",
   "execution_count": 13,
   "metadata": {
    "tags": []
   },
   "outputs": [
    {
     "name": "stdout",
     "output_type": "stream",
     "text": [
      "root\n",
      " |-- Party: string (nullable = true)\n",
      " |-- Name: string (nullable = true)\n",
      " |-- Handle: string (nullable = true)\n",
      " |-- AvatarURL: string (nullable = true)\n",
      "\n"
     ]
    }
   ],
   "source": [
    "handles.printSchema()"
   ]
  },
  {
   "cell_type": "markdown",
   "metadata": {},
   "source": [
    "## 1. Can you identify any tweet that mentions the handle @LatinoLeader using regexp_extract?\n",
    "\n",
    "It doesn't matter how you identify the row, any identifier will do. You can test your script on row 5 from this dataset. That row contains @LatinoLeader. "
   ]
  },
  {
   "cell_type": "code",
   "execution_count": 14,
   "metadata": {
    "tags": []
   },
   "outputs": [],
   "source": [
    "import pyspark.sql.functions as func\n",
    "# df = extracted.withColumn(\"Latino_Mentions\", regexp.extract(extracted.Tweet,(.)(@LatinoLenader)(.),2))\n",
    "clean = extracted.withColumn(\"Latino_Mentions\", func.regexp_extract(extracted[\"Party\"], r'(@LatinoLenader)', 1))"
   ]
  },
  {
   "cell_type": "code",
   "execution_count": 15,
   "metadata": {
    "tags": []
   },
   "outputs": [
    {
     "name": "stdout",
     "output_type": "stream",
     "text": [
      "+----------------------------------------------------+-------------+--------------------------------------------------------------------------------------------------------------------------------------------+---------------+\n",
      "|Party                                               |Handle       |Tweet                                                                                                                                       |Latino_Mentions|\n",
      "+----------------------------------------------------+-------------+--------------------------------------------------------------------------------------------------------------------------------------------+---------------+\n",
      "|Democrat                                            |RepDarrenSoto|Today, Senate Dems vote to #SaveTheInternet. Proud to support similar #NetNeutrality legislation here in the House… https://t.co/n3tggDLU1L |               |\n",
      "|Democrat                                            |RepDarrenSoto|RT @WinterHavenSun: Winter Haven resident / Alta Vista teacher is one of several recognized by @RepDarrenSoto for National Teacher Apprecia…|               |\n",
      "|Democrat                                            |RepDarrenSoto|RT @NBCLatino: .@RepDarrenSoto noted that Hurricane Maria has left approximately $90 billion in damages.                                    |               |\n",
      "|Congress has allocated about $18…\"                  |NULL         |NULL                                                                                                                                        |               |\n",
      "|Democrat                                            |RepDarrenSoto|RT @NALCABPolicy: Meeting with @RepDarrenSoto . Thanks for taking the time to meet with @LatinoLeader ED Marucci Guzman. #NALCABPolicy2018.…|               |\n",
      "|Democrat                                            |RepDarrenSoto|RT @Vegalteno: Hurricane season starts on June 1st; Puerto Rico’s readiness...well 🤦🏼‍♂️😡😩@Pwr4PuertoRico @RepDarrenSoto @EspaillatNY   |               |\n",
      "|Democrat                                            |RepDarrenSoto|RT @EmgageActionFL: Thank you to all who came out to our Orlando gala! It was a successful night that would not have been possible without… |               |\n",
      "|Democrat                                            |RepDarrenSoto|Hurricane Maria left approx $90 billion in damages, yet only $1 billion was allocated for rebuilding grid. No surpr… https://t.co/2kU8BcKwUh|               |\n",
      "|Democrat                                            |RepDarrenSoto|RT @Tharryry: I am delighted that @RepDarrenSoto will be voting for the CRA to overrule the FCC and save our #NetNeutrality rules. Find out…|               |\n",
      "|Democrat                                            |RepDarrenSoto|RT @HispanicCaucus: Trump's anti-immigrant policies are hurting small businesses across the country that can’t find Americans willing to do…|               |\n",
      "|Democrat                                            |RepDarrenSoto|RT @RepStephMurphy: Great joining @WeAreUnidosUS and @RepDarrenSoto for a roundtable in #Orlando on federal issues affecting central Florid…|               |\n",
      "|Democrat                                            |RepDarrenSoto|RT @AllSaints_FL: Zhihan (John)'s art received awards at this year's state competitions. We just found out he's won the Congressional Distr…|               |\n",
      "|Democrat                                            |RepDarrenSoto|.@realDonaldTrump official policy to separate immigrant children from their mothers is definition of cruelty… https://t.co/jCrURA4oLz       |               |\n",
      "|Democrat                                            |RepDarrenSoto|Thank you to my mom Jean and all the mothers across this nation! You are raising our future. Have a… https://t.co/MXES0r31VH                |               |\n",
      "|Democrat                                            |RepDarrenSoto|We paid our respects at Nat’l Law Enforcement Officers Memorial today for those we lost:                                                    |               |\n",
      "|Sgt Sam Howard - Kissimmee… https://t.co/UzPxIVBMYW\"|NULL         |NULL                                                                                                                                        |               |\n",
      "|Democrat                                            |RepDarrenSoto|RT @WinterHavenSun: Congratulations to  @AHSbloodhounds senior Abygayle Rausch for starting her service to the country at the US Naval Acad…|               |\n",
      "|Democrat                                            |RepDarrenSoto|Meet 12 incredible young leaders appointed to US Military Academies from our District! @HispanicCaucus… https://t.co/lND3zgvJ55             |               |\n",
      "|Democrat                                            |RepDarrenSoto|RT @wildlifeaction: With 1/3 of US wildlife in decline, Florida species like the snowy plover need advocates! As co-sponsors for the Recove…|               |\n",
      "|Democrat                                            |RepDarrenSoto|RT @CHeathWFTV: Keeping guns out of the wrong hands: following @WFTV report, @RepDarrenSoto asks ATF to look into so-called ghost guns (fir…|               |\n",
      "+----------------------------------------------------+-------------+--------------------------------------------------------------------------------------------------------------------------------------------+---------------+\n",
      "only showing top 20 rows\n",
      "\n"
     ]
    }
   ],
   "source": [
    "clean.show(truncate=False)"
   ]
  },
  {
   "cell_type": "code",
   "execution_count": 16,
   "metadata": {
    "tags": []
   },
   "outputs": [],
   "source": [
    "counts = clean.groupBy(\"Party\").count()"
   ]
  },
  {
   "cell_type": "code",
   "execution_count": 17,
   "metadata": {
    "tags": []
   },
   "outputs": [
    {
     "name": "stdout",
     "output_type": "stream",
     "text": [
      "+--------------------+-----+\n",
      "|               Party|count|\n",
      "+--------------------+-----+\n",
      "|        investigat…\"|    1|\n",
      "|Pruitt’s Chief Of...|    1|\n",
      "|05/03/… https://t...|    1|\n",
      "|NOTE that… https:...|    1|\n",
      "|MC Lyte - Poor Ge...|    1|\n",
      "|   Start- November 1|    1|\n",
      "|To all who are ce...|    1|\n",
      "|The Kennedy famil...|    1|\n",
      "|Glad… https://t.c...|    1|\n",
      "|The U.S. should b...|    1|\n",
      "|   -1st: Rosa Kirgis|    1|\n",
      "|             If you:|    1|\n",
      "|            As a mom|    1|\n",
      "|          @jmeacham |    1|\n",
      "|    #SuicidePreven…\"|    1|\n",
      "|                 1…\"|    1|\n",
      "|https://t.co/XL5w...|    1|\n",
      "|I’m sure you’re j...|    1|\n",
      "|As… https://t.co/...|    1|\n",
      "|      ☔ Venice Beach|    1|\n",
      "+--------------------+-----+\n",
      "only showing top 20 rows\n",
      "\n"
     ]
    }
   ],
   "source": [
    "counts.show()"
   ]
  },
  {
   "cell_type": "code",
   "execution_count": 18,
   "metadata": {
    "tags": []
   },
   "outputs": [
    {
     "name": "stdout",
     "output_type": "stream",
     "text": [
      "+--------------------+-----+\n",
      "|               Party|count|\n",
      "+--------------------+-----+\n",
      "|          Republican|44392|\n",
      "|            Democrat|42068|\n",
      "|            That’s…\"|   28|\n",
      "|https://t.co/oc6J...|   22|\n",
      "|                 Now|   17|\n",
      "|               Today|   13|\n",
      "|         https://t…\"|   12|\n",
      "|              http…\"|   12|\n",
      "|                 h…\"|   12|\n",
      "|               ❌ E…\"|   11|\n",
      "|❌ Abandoned Hispa...|   11|\n",
      "|   ❌ Passed #TaxScam|   11|\n",
      "|  ❌ Terminated #DACA|   11|\n",
      "|        #mepolitics\"|   11|\n",
      "|https://t.co/8htz...|    9|\n",
      "|      https://t.co…\"|    9|\n",
      "|💻 Website: https...|    9|\n",
      "|This. Has. To. St...|    8|\n",
      "|                   4|    7|\n",
      "|Semper Fidelis. h...|    7|\n",
      "+--------------------+-----+\n",
      "only showing top 20 rows\n",
      "\n"
     ]
    }
   ],
   "source": [
    "from pyspark.sql.functions import desc \n",
    "counts.orderBy(desc(\"count\")).show()"
   ]
  },
  {
   "cell_type": "markdown",
   "metadata": {},
   "source": [
    "## 2. Replace any value other than 'Democrate' or 'Republican' with 'Other' in the Party column.\n",
    "\n",
    "We can see from the output below, that there are several other values other than 'Democrate' or 'Republican' in the Part column. We are assuming that this is dirty data that needs to be cleaned up."
   ]
  },
  {
   "cell_type": "code",
   "execution_count": 19,
   "metadata": {
    "tags": []
   },
   "outputs": [],
   "source": [
    "from pyspark.sql.functions import when \n",
    "clean = extracted.withColumn(\"Party\",\n",
    "        when(extracted.Party == \"Democrat\", 'Democrat') \n",
    "        .when(extracted.Party == \"Republican\", 'Republican') \n",
    "         .otherwise('Other'))"
   ]
  },
  {
   "cell_type": "code",
   "execution_count": 20,
   "metadata": {
    "tags": []
   },
   "outputs": [
    {
     "name": "stdout",
     "output_type": "stream",
     "text": [
      "+--------+-------------+--------------------+\n",
      "|   Party|       Handle|               Tweet|\n",
      "+--------+-------------+--------------------+\n",
      "|Democrat|RepDarrenSoto|Today, Senate Dem...|\n",
      "|Democrat|RepDarrenSoto|RT @WinterHavenSu...|\n",
      "|Democrat|RepDarrenSoto|RT @NBCLatino: .@...|\n",
      "|   Other|         NULL|                NULL|\n",
      "|Democrat|RepDarrenSoto|RT @NALCABPolicy:...|\n",
      "|Democrat|RepDarrenSoto|RT @Vegalteno: Hu...|\n",
      "|Democrat|RepDarrenSoto|RT @EmgageActionF...|\n",
      "|Democrat|RepDarrenSoto|Hurricane Maria l...|\n",
      "|Democrat|RepDarrenSoto|RT @Tharryry: I a...|\n",
      "|Democrat|RepDarrenSoto|RT @HispanicCaucu...|\n",
      "|Democrat|RepDarrenSoto|RT @RepStephMurph...|\n",
      "|Democrat|RepDarrenSoto|RT @AllSaints_FL:...|\n",
      "|Democrat|RepDarrenSoto|.@realDonaldTrump...|\n",
      "|Democrat|RepDarrenSoto|Thank you to my m...|\n",
      "|Democrat|RepDarrenSoto|We paid our respe...|\n",
      "|   Other|         NULL|                NULL|\n",
      "|Democrat|RepDarrenSoto|RT @WinterHavenSu...|\n",
      "|Democrat|RepDarrenSoto|Meet 12 incredibl...|\n",
      "|Democrat|RepDarrenSoto|RT @wildlifeactio...|\n",
      "|Democrat|RepDarrenSoto|RT @CHeathWFTV: K...|\n",
      "+--------+-------------+--------------------+\n",
      "only showing top 20 rows\n",
      "\n"
     ]
    }
   ],
   "source": [
    "clean.show()"
   ]
  },
  {
   "cell_type": "markdown",
   "metadata": {},
   "source": [
    "## 3. Delete all embedded links (ie. \"https:....)\n",
    "\n",
    "For example see the first row in the tweets dataframe. \n",
    "\n",
    "*Note: this may require an google search :)*"
   ]
  },
  {
   "cell_type": "code",
   "execution_count": 21,
   "metadata": {
    "tags": []
   },
   "outputs": [],
   "source": [
    "test = extracted.withColumn(\"clean\", func.regexp_replace(\"Tweet\", \"https:\", \"\"))"
   ]
  },
  {
   "cell_type": "code",
   "execution_count": 22,
   "metadata": {
    "tags": []
   },
   "outputs": [
    {
     "name": "stdout",
     "output_type": "stream",
     "text": [
      "+--------------------+\n",
      "|               clean|\n",
      "+--------------------+\n",
      "|Today, Senate Dem...|\n",
      "|RT @WinterHavenSu...|\n",
      "|RT @NBCLatino: .@...|\n",
      "|                NULL|\n",
      "|RT @NALCABPolicy:...|\n",
      "|RT @Vegalteno: Hu...|\n",
      "|RT @EmgageActionF...|\n",
      "|Hurricane Maria l...|\n",
      "|RT @Tharryry: I a...|\n",
      "|RT @HispanicCaucu...|\n",
      "|RT @RepStephMurph...|\n",
      "|RT @AllSaints_FL:...|\n",
      "|.@realDonaldTrump...|\n",
      "|Thank you to my m...|\n",
      "|We paid our respe...|\n",
      "|                NULL|\n",
      "|RT @WinterHavenSu...|\n",
      "|Meet 12 incredibl...|\n",
      "|RT @wildlifeactio...|\n",
      "|RT @CHeathWFTV: K...|\n",
      "+--------------------+\n",
      "only showing top 20 rows\n",
      "\n"
     ]
    }
   ],
   "source": [
    "test.select(\"clean\").show()"
   ]
  },
  {
   "cell_type": "markdown",
   "metadata": {},
   "source": [
    "## 4. Remove any leading or trailing white space in the tweet column"
   ]
  },
  {
   "cell_type": "code",
   "execution_count": 23,
   "metadata": {
    "tags": []
   },
   "outputs": [],
   "source": [
    "from pyspark.sql.functions import trim\n",
    "df2 = clean.withColumn(\"Tweet\", trim(clean.Tweet))"
   ]
  },
  {
   "cell_type": "code",
   "execution_count": 24,
   "metadata": {
    "tags": []
   },
   "outputs": [
    {
     "name": "stdout",
     "output_type": "stream",
     "text": [
      "+--------+-------------+--------------------------------------------------------------------------------------------------------------------------------------------+\n",
      "|Party   |Handle       |Tweet                                                                                                                                       |\n",
      "+--------+-------------+--------------------------------------------------------------------------------------------------------------------------------------------+\n",
      "|Democrat|RepDarrenSoto|Today, Senate Dems vote to #SaveTheInternet. Proud to support similar #NetNeutrality legislation here in the House… https://t.co/n3tggDLU1L |\n",
      "|Democrat|RepDarrenSoto|RT @WinterHavenSun: Winter Haven resident / Alta Vista teacher is one of several recognized by @RepDarrenSoto for National Teacher Apprecia…|\n",
      "|Democrat|RepDarrenSoto|RT @NBCLatino: .@RepDarrenSoto noted that Hurricane Maria has left approximately $90 billion in damages.                                    |\n",
      "|Other   |NULL         |NULL                                                                                                                                        |\n",
      "|Democrat|RepDarrenSoto|RT @NALCABPolicy: Meeting with @RepDarrenSoto . Thanks for taking the time to meet with @LatinoLeader ED Marucci Guzman. #NALCABPolicy2018.…|\n",
      "|Democrat|RepDarrenSoto|RT @Vegalteno: Hurricane season starts on June 1st; Puerto Rico’s readiness...well 🤦🏼‍♂️😡😩@Pwr4PuertoRico @RepDarrenSoto @EspaillatNY   |\n",
      "|Democrat|RepDarrenSoto|RT @EmgageActionFL: Thank you to all who came out to our Orlando gala! It was a successful night that would not have been possible without… |\n",
      "|Democrat|RepDarrenSoto|Hurricane Maria left approx $90 billion in damages, yet only $1 billion was allocated for rebuilding grid. No surpr… https://t.co/2kU8BcKwUh|\n",
      "|Democrat|RepDarrenSoto|RT @Tharryry: I am delighted that @RepDarrenSoto will be voting for the CRA to overrule the FCC and save our #NetNeutrality rules. Find out…|\n",
      "|Democrat|RepDarrenSoto|RT @HispanicCaucus: Trump's anti-immigrant policies are hurting small businesses across the country that can’t find Americans willing to do…|\n",
      "|Democrat|RepDarrenSoto|RT @RepStephMurphy: Great joining @WeAreUnidosUS and @RepDarrenSoto for a roundtable in #Orlando on federal issues affecting central Florid…|\n",
      "|Democrat|RepDarrenSoto|RT @AllSaints_FL: Zhihan (John)'s art received awards at this year's state competitions. We just found out he's won the Congressional Distr…|\n",
      "|Democrat|RepDarrenSoto|.@realDonaldTrump official policy to separate immigrant children from their mothers is definition of cruelty… https://t.co/jCrURA4oLz       |\n",
      "|Democrat|RepDarrenSoto|Thank you to my mom Jean and all the mothers across this nation! You are raising our future. Have a… https://t.co/MXES0r31VH                |\n",
      "|Democrat|RepDarrenSoto|We paid our respects at Nat’l Law Enforcement Officers Memorial today for those we lost:                                                    |\n",
      "|Other   |NULL         |NULL                                                                                                                                        |\n",
      "|Democrat|RepDarrenSoto|RT @WinterHavenSun: Congratulations to  @AHSbloodhounds senior Abygayle Rausch for starting her service to the country at the US Naval Acad…|\n",
      "|Democrat|RepDarrenSoto|Meet 12 incredible young leaders appointed to US Military Academies from our District! @HispanicCaucus… https://t.co/lND3zgvJ55             |\n",
      "|Democrat|RepDarrenSoto|RT @wildlifeaction: With 1/3 of US wildlife in decline, Florida species like the snowy plover need advocates! As co-sponsors for the Recove…|\n",
      "|Democrat|RepDarrenSoto|RT @CHeathWFTV: Keeping guns out of the wrong hands: following @WFTV report, @RepDarrenSoto asks ATF to look into so-called ghost guns (fir…|\n",
      "+--------+-------------+--------------------------------------------------------------------------------------------------------------------------------------------+\n",
      "only showing top 20 rows\n",
      "\n"
     ]
    }
   ],
   "source": [
    "df2.show(truncate=False)"
   ]
  },
  {
   "cell_type": "markdown",
   "metadata": {},
   "source": [
    "## 5. Rename the 'Party' column to 'Dem_Rep'\n",
    "\n",
    "No real reason here :) just wanted you to get practice doing this. "
   ]
  },
  {
   "cell_type": "code",
   "execution_count": 25,
   "metadata": {
    "tags": []
   },
   "outputs": [
    {
     "name": "stdout",
     "output_type": "stream",
     "text": [
      "+--------+-------------+--------------------+\n",
      "| Dem_Rep|       Handle|               Tweet|\n",
      "+--------+-------------+--------------------+\n",
      "|Democrat|RepDarrenSoto|Today, Senate Dem...|\n",
      "|Democrat|RepDarrenSoto|RT @WinterHavenSu...|\n",
      "|Democrat|RepDarrenSoto|RT @NBCLatino: .@...|\n",
      "|   Other|         NULL|                NULL|\n",
      "|Democrat|RepDarrenSoto|RT @NALCABPolicy:...|\n",
      "|Democrat|RepDarrenSoto|RT @Vegalteno: Hu...|\n",
      "|Democrat|RepDarrenSoto|RT @EmgageActionF...|\n",
      "|Democrat|RepDarrenSoto|Hurricane Maria l...|\n",
      "|Democrat|RepDarrenSoto|RT @Tharryry: I a...|\n",
      "|Democrat|RepDarrenSoto|RT @HispanicCaucu...|\n",
      "|Democrat|RepDarrenSoto|RT @RepStephMurph...|\n",
      "|Democrat|RepDarrenSoto|RT @AllSaints_FL:...|\n",
      "|Democrat|RepDarrenSoto|.@realDonaldTrump...|\n",
      "|Democrat|RepDarrenSoto|Thank you to my m...|\n",
      "|Democrat|RepDarrenSoto|We paid our respe...|\n",
      "|   Other|         NULL|                NULL|\n",
      "|Democrat|RepDarrenSoto|RT @WinterHavenSu...|\n",
      "|Democrat|RepDarrenSoto|Meet 12 incredibl...|\n",
      "|Democrat|RepDarrenSoto|RT @wildlifeactio...|\n",
      "|Democrat|RepDarrenSoto|RT @CHeathWFTV: K...|\n",
      "+--------+-------------+--------------------+\n",
      "only showing top 20 rows\n",
      "\n"
     ]
    }
   ],
   "source": [
    "df2.withColumnRenamed(\"Party\", \"Dem_Rep\").show()"
   ]
  },
  {
   "cell_type": "markdown",
   "metadata": {},
   "source": [
    "## 6. Concatenate the Party and Handle columns\n",
    "\n",
    "Silly yes... but good practice.\n",
    "\n",
    "pyspark.sql.functions.concat_ws(sep, *cols)[source] <br>\n",
    "Concatenates multiple input string columns together into a single string column, using the given separator."
   ]
  },
  {
   "cell_type": "code",
   "execution_count": 26,
   "metadata": {
    "tags": []
   },
   "outputs": [],
   "source": [
    "newDF = df2.selectExpr(\"Party\", \"Handle\", \"CONCAT(Party, ' ', Handle) AS combined\") "
   ]
  },
  {
   "cell_type": "code",
   "execution_count": 27,
   "metadata": {
    "tags": []
   },
   "outputs": [
    {
     "name": "stdout",
     "output_type": "stream",
     "text": [
      "+--------+-------------+--------------------+\n",
      "|   Party|       Handle|            combined|\n",
      "+--------+-------------+--------------------+\n",
      "|Democrat|RepDarrenSoto|Democrat RepDarre...|\n",
      "|Democrat|RepDarrenSoto|Democrat RepDarre...|\n",
      "|Democrat|RepDarrenSoto|Democrat RepDarre...|\n",
      "|   Other|         NULL|                NULL|\n",
      "|Democrat|RepDarrenSoto|Democrat RepDarre...|\n",
      "|Democrat|RepDarrenSoto|Democrat RepDarre...|\n",
      "|Democrat|RepDarrenSoto|Democrat RepDarre...|\n",
      "|Democrat|RepDarrenSoto|Democrat RepDarre...|\n",
      "|Democrat|RepDarrenSoto|Democrat RepDarre...|\n",
      "|Democrat|RepDarrenSoto|Democrat RepDarre...|\n",
      "|Democrat|RepDarrenSoto|Democrat RepDarre...|\n",
      "|Democrat|RepDarrenSoto|Democrat RepDarre...|\n",
      "|Democrat|RepDarrenSoto|Democrat RepDarre...|\n",
      "|Democrat|RepDarrenSoto|Democrat RepDarre...|\n",
      "|Democrat|RepDarrenSoto|Democrat RepDarre...|\n",
      "|   Other|         NULL|                NULL|\n",
      "|Democrat|RepDarrenSoto|Democrat RepDarre...|\n",
      "|Democrat|RepDarrenSoto|Democrat RepDarre...|\n",
      "|Democrat|RepDarrenSoto|Democrat RepDarre...|\n",
      "|Democrat|RepDarrenSoto|Democrat RepDarre...|\n",
      "+--------+-------------+--------------------+\n",
      "only showing top 20 rows\n",
      "\n"
     ]
    }
   ],
   "source": [
    "newDF.show()"
   ]
  },
  {
   "cell_type": "code",
   "execution_count": 28,
   "metadata": {},
   "outputs": [],
   "source": [
    "from pyspark.sql.functions import concat_ws\n",
    "newerDF = df2.select(concat_ws(\" \", df2.Party, df2.Handle).alias(\"concatenated\"))"
   ]
  },
  {
   "cell_type": "code",
   "execution_count": 29,
   "metadata": {
    "tags": []
   },
   "outputs": [
    {
     "name": "stdout",
     "output_type": "stream",
     "text": [
      "+----------------------+\n",
      "|concatenated          |\n",
      "+----------------------+\n",
      "|Democrat RepDarrenSoto|\n",
      "|Democrat RepDarrenSoto|\n",
      "|Democrat RepDarrenSoto|\n",
      "|Other                 |\n",
      "|Democrat RepDarrenSoto|\n",
      "|Democrat RepDarrenSoto|\n",
      "|Democrat RepDarrenSoto|\n",
      "|Democrat RepDarrenSoto|\n",
      "|Democrat RepDarrenSoto|\n",
      "|Democrat RepDarrenSoto|\n",
      "|Democrat RepDarrenSoto|\n",
      "|Democrat RepDarrenSoto|\n",
      "|Democrat RepDarrenSoto|\n",
      "|Democrat RepDarrenSoto|\n",
      "|Democrat RepDarrenSoto|\n",
      "|Other                 |\n",
      "|Democrat RepDarrenSoto|\n",
      "|Democrat RepDarrenSoto|\n",
      "|Democrat RepDarrenSoto|\n",
      "|Democrat RepDarrenSoto|\n",
      "+----------------------+\n",
      "only showing top 20 rows\n",
      "\n"
     ]
    }
   ],
   "source": [
    "newerDF.show(truncate=False)"
   ]
  },
  {
   "cell_type": "markdown",
   "metadata": {},
   "source": [
    "## Challenge Question\n",
    "\n",
    "Let's image that we want to analyze the hashtags that are used in these tweets. Can you extract all the hashtags you see?"
   ]
  },
  {
   "cell_type": "code",
   "execution_count": 30,
   "metadata": {},
   "outputs": [],
   "source": [
    "import pyspark.sql.functions as func\n",
    "extracted2 = spark.read.csv(\"ExtractedTweets.csv\", header=True)\n",
    "challengeQuestion = extracted2.withColumn(\"Hashtags\", func.regexp_extract(extracted2[\"Tweet\"], r'(#)', 1))"
   ]
  },
  {
   "cell_type": "code",
   "execution_count": 31,
   "metadata": {
    "tags": []
   },
   "outputs": [
    {
     "name": "stdout",
     "output_type": "stream",
     "text": [
      "+----------------------------------------------------+-------------+--------------------------------------------------------------------------------------------------------------------------------------------+--------+\n",
      "|Party                                               |Handle       |Tweet                                                                                                                                       |Hashtags|\n",
      "+----------------------------------------------------+-------------+--------------------------------------------------------------------------------------------------------------------------------------------+--------+\n",
      "|Democrat                                            |RepDarrenSoto|Today, Senate Dems vote to #SaveTheInternet. Proud to support similar #NetNeutrality legislation here in the House… https://t.co/n3tggDLU1L |#       |\n",
      "|Democrat                                            |RepDarrenSoto|RT @WinterHavenSun: Winter Haven resident / Alta Vista teacher is one of several recognized by @RepDarrenSoto for National Teacher Apprecia…|        |\n",
      "|Democrat                                            |RepDarrenSoto|RT @NBCLatino: .@RepDarrenSoto noted that Hurricane Maria has left approximately $90 billion in damages.                                    |        |\n",
      "|Congress has allocated about $18…\"                  |NULL         |NULL                                                                                                                                        |NULL    |\n",
      "|Democrat                                            |RepDarrenSoto|RT @NALCABPolicy: Meeting with @RepDarrenSoto . Thanks for taking the time to meet with @LatinoLeader ED Marucci Guzman. #NALCABPolicy2018.…|#       |\n",
      "|Democrat                                            |RepDarrenSoto|RT @Vegalteno: Hurricane season starts on June 1st; Puerto Rico’s readiness...well 🤦🏼‍♂️😡😩@Pwr4PuertoRico @RepDarrenSoto @EspaillatNY   |        |\n",
      "|Democrat                                            |RepDarrenSoto|RT @EmgageActionFL: Thank you to all who came out to our Orlando gala! It was a successful night that would not have been possible without… |        |\n",
      "|Democrat                                            |RepDarrenSoto|Hurricane Maria left approx $90 billion in damages, yet only $1 billion was allocated for rebuilding grid. No surpr… https://t.co/2kU8BcKwUh|        |\n",
      "|Democrat                                            |RepDarrenSoto|RT @Tharryry: I am delighted that @RepDarrenSoto will be voting for the CRA to overrule the FCC and save our #NetNeutrality rules. Find out…|#       |\n",
      "|Democrat                                            |RepDarrenSoto|RT @HispanicCaucus: Trump's anti-immigrant policies are hurting small businesses across the country that can’t find Americans willing to do…|        |\n",
      "|Democrat                                            |RepDarrenSoto|RT @RepStephMurphy: Great joining @WeAreUnidosUS and @RepDarrenSoto for a roundtable in #Orlando on federal issues affecting central Florid…|#       |\n",
      "|Democrat                                            |RepDarrenSoto|RT @AllSaints_FL: Zhihan (John)'s art received awards at this year's state competitions. We just found out he's won the Congressional Distr…|        |\n",
      "|Democrat                                            |RepDarrenSoto|.@realDonaldTrump official policy to separate immigrant children from their mothers is definition of cruelty… https://t.co/jCrURA4oLz       |        |\n",
      "|Democrat                                            |RepDarrenSoto|Thank you to my mom Jean and all the mothers across this nation! You are raising our future. Have a… https://t.co/MXES0r31VH                |        |\n",
      "|Democrat                                            |RepDarrenSoto|We paid our respects at Nat’l Law Enforcement Officers Memorial today for those we lost:                                                    |        |\n",
      "|Sgt Sam Howard - Kissimmee… https://t.co/UzPxIVBMYW\"|NULL         |NULL                                                                                                                                        |NULL    |\n",
      "|Democrat                                            |RepDarrenSoto|RT @WinterHavenSun: Congratulations to  @AHSbloodhounds senior Abygayle Rausch for starting her service to the country at the US Naval Acad…|        |\n",
      "|Democrat                                            |RepDarrenSoto|Meet 12 incredible young leaders appointed to US Military Academies from our District! @HispanicCaucus… https://t.co/lND3zgvJ55             |        |\n",
      "|Democrat                                            |RepDarrenSoto|RT @wildlifeaction: With 1/3 of US wildlife in decline, Florida species like the snowy plover need advocates! As co-sponsors for the Recove…|        |\n",
      "|Democrat                                            |RepDarrenSoto|RT @CHeathWFTV: Keeping guns out of the wrong hands: following @WFTV report, @RepDarrenSoto asks ATF to look into so-called ghost guns (fir…|        |\n",
      "+----------------------------------------------------+-------------+--------------------------------------------------------------------------------------------------------------------------------------------+--------+\n",
      "only showing top 20 rows\n",
      "\n"
     ]
    }
   ],
   "source": [
    "challengeQuestion.show(truncate=False)"
   ]
  },
  {
   "cell_type": "markdown",
   "metadata": {},
   "source": [
    "# Let's create our own dataset to work with real dates\n",
    "\n",
    "This is a dataset of patient visits from a medical office. It contains the patients first and last names, date of birth, and the dates of their first 3 visits. "
   ]
  },
  {
   "cell_type": "code",
   "execution_count": 10,
   "metadata": {},
   "outputs": [
    {
     "name": "stdout",
     "output_type": "stream",
     "text": [
      "+----------+---------+----------+--------+---------+---------+\n",
      "|first_name|last_name|       dob|  visit1|   visit2|   visit3|\n",
      "+----------+---------+----------+--------+---------+---------+\n",
      "|  Mohammed|   Alfasy|  1987-4-8|2016-1-7| 2017-2-3| 2018-3-2|\n",
      "|     Marcy|Wellmaker|  1986-4-8|2015-1-7| 2017-1-3| 2018-1-2|\n",
      "|     Ginny|   Ginger| 1986-7-10|2014-8-7| 2015-2-3| 2016-3-2|\n",
      "|     Vijay| Doberson|  1988-5-2|2016-1-7| 2018-2-3| 2018-3-2|\n",
      "|     Orhan|  Gelicek| 1987-5-11|2016-5-7| 2017-1-3| 2018-9-2|\n",
      "|     Sarah|    Jones|  1956-7-6|2016-4-7| 2017-8-3|2018-10-2|\n",
      "|      John|  Johnson|2017-10-12|2018-1-2|2018-10-3| 2018-3-2|\n",
      "+----------+---------+----------+--------+---------+---------+\n",
      "\n",
      "root\n",
      " |-- first_name: string (nullable = true)\n",
      " |-- last_name: string (nullable = true)\n",
      " |-- dob: string (nullable = true)\n",
      " |-- visit1: string (nullable = true)\n",
      " |-- visit2: string (nullable = true)\n",
      " |-- visit3: string (nullable = true)\n",
      "\n",
      "None\n"
     ]
    }
   ],
   "source": [
    "from pyspark.sql.types import *\n",
    "\n",
    "md_office = [('Mohammed','Alfasy','1987-4-8','2016-1-7','2017-2-3','2018-3-2') \\\n",
    "            ,('Marcy','Wellmaker','1986-4-8','2015-1-7','2017-1-3','2018-1-2') \\\n",
    "            ,('Ginny','Ginger','1986-7-10','2014-8-7','2015-2-3','2016-3-2') \\\n",
    "            ,('Vijay','Doberson','1988-5-2','2016-1-7','2018-2-3','2018-3-2') \\\n",
    "            ,('Orhan','Gelicek','1987-5-11','2016-5-7','2017-1-3','2018-9-2') \\\n",
    "            ,('Sarah','Jones','1956-7-6','2016-4-7','2017-8-3','2018-10-2') \\\n",
    "            ,('John','Johnson','2017-10-12','2018-1-2','2018-10-3','2018-3-2') ]\n",
    "\n",
    "df = spark.createDataFrame(md_office,['first_name','last_name','dob','visit1','visit2','visit3']) # schema=final_struc\n",
    "\n",
    "# Check to make sure it worked\n",
    "df.show()\n",
    "print(df.printSchema())"
   ]
  },
  {
   "cell_type": "markdown",
   "metadata": {},
   "source": [
    "Oh no! The dates are still stored as text... let's try converting them again and see if we have any issues this time."
   ]
  },
  {
   "cell_type": "code",
   "execution_count": 11,
   "metadata": {},
   "outputs": [
    {
     "name": "stdout",
     "output_type": "stream",
     "text": [
      "root\n",
      " |-- first_name: string (nullable = true)\n",
      " |-- last_name: string (nullable = true)\n",
      " |-- dob: date (nullable = true)\n",
      " |-- visit1: date (nullable = true)\n",
      " |-- visit2: date (nullable = true)\n",
      " |-- visit3: date (nullable = true)\n",
      "\n",
      "None\n"
     ]
    }
   ],
   "source": [
    "from pyspark.sql.functions import col\n",
    "df4 = df.withColumn(\"dob\",col(\"dob\").cast(DateType())).withColumn(\"visit1\",col(\"visit1\").cast(DateType())) \\\n",
    ".withColumn(\"visit2\",col(\"visit2\").cast(DateType())).withColumn(\"visit3\",col(\"visit3\").cast(DateType()))\n",
    "print(df4.printSchema())"
   ]
  },
  {
   "cell_type": "markdown",
   "metadata": {},
   "source": [
    "## 7. Can you calculate a variable showing the length of time between patient visits?\n",
    "\n",
    "Compare visit1 to visit2 and visit2 to visit3 for all patients and see what the average length of time is between visits. Create an alias for it as well. "
   ]
  },
  {
   "cell_type": "code",
   "execution_count": 19,
   "metadata": {},
   "outputs": [
    {
     "name": "stdout",
     "output_type": "stream",
     "text": [
      "+----------+---------+----------+----------+----------+----------+-----+\n",
      "|first_name|last_name|       dob|    visit1|    visit2|    visit3|DIFF1|\n",
      "+----------+---------+----------+----------+----------+----------+-----+\n",
      "|  Mohammed|   Alfasy|1987-04-08|2016-01-07|2017-02-03|2018-03-02|  393|\n",
      "|     Marcy|Wellmaker|1986-04-08|2015-01-07|2017-01-03|2018-01-02|  727|\n",
      "|     Ginny|   Ginger|1986-07-10|2014-08-07|2015-02-03|2016-03-02|  180|\n",
      "|     Vijay| Doberson|1988-05-02|2016-01-07|2018-02-03|2018-03-02|  758|\n",
      "|     Orhan|  Gelicek|1987-05-11|2016-05-07|2017-01-03|2018-09-02|  241|\n",
      "|     Sarah|    Jones|1956-07-06|2016-04-07|2017-08-03|2018-10-02|  483|\n",
      "|      John|  Johnson|2017-10-12|2018-01-02|2018-10-03|2018-03-02|  274|\n",
      "+----------+---------+----------+----------+----------+----------+-----+\n",
      "\n",
      "+----------+---------+----------+----------+----------+----------+-----+\n",
      "|first_name|last_name|       dob|    visit1|    visit2|    visit3|DIFF2|\n",
      "+----------+---------+----------+----------+----------+----------+-----+\n",
      "|  Mohammed|   Alfasy|1987-04-08|2016-01-07|2017-02-03|2018-03-02|  392|\n",
      "|     Marcy|Wellmaker|1986-04-08|2015-01-07|2017-01-03|2018-01-02|  364|\n",
      "|     Ginny|   Ginger|1986-07-10|2014-08-07|2015-02-03|2016-03-02|  393|\n",
      "|     Vijay| Doberson|1988-05-02|2016-01-07|2018-02-03|2018-03-02|   27|\n",
      "|     Orhan|  Gelicek|1987-05-11|2016-05-07|2017-01-03|2018-09-02|  607|\n",
      "|     Sarah|    Jones|1956-07-06|2016-04-07|2017-08-03|2018-10-02|  425|\n",
      "|      John|  Johnson|2017-10-12|2018-01-02|2018-10-03|2018-03-02| -215|\n",
      "+----------+---------+----------+----------+----------+----------+-----+\n",
      "\n"
     ]
    }
   ],
   "source": [
    "from pyspark.sql.functions import *\n",
    "\n",
    "df4.withColumn('DIFF1', floor(datediff(df4['visit2'], df4['visit1']))).show()\n",
    "df4.withColumn('DIFF2', floor(datediff(df4['visit3'], df4['visit2']))).show()"
   ]
  },
  {
   "cell_type": "markdown",
   "metadata": {},
   "source": [
    "## 8. Can you calculate the age of each patient?"
   ]
  },
  {
   "cell_type": "code",
   "execution_count": 58,
   "metadata": {},
   "outputs": [
    {
     "name": "stdout",
     "output_type": "stream",
     "text": [
      "+----------+---------+---+----------+----------+----------+\n",
      "|first_name|last_name|dob|    visit1|    visit2|    visit3|\n",
      "+----------+---------+---+----------+----------+----------+\n",
      "|  Mohammed|   Alfasy| 36|2016-01-07|2017-02-03|2018-03-02|\n",
      "|     Marcy|Wellmaker| 37|2015-01-07|2017-01-03|2018-01-02|\n",
      "|     Ginny|   Ginger| 37|2014-08-07|2015-02-03|2016-03-02|\n",
      "|     Vijay| Doberson| 35|2016-01-07|2018-02-03|2018-03-02|\n",
      "|     Orhan|  Gelicek| 36|2016-05-07|2017-01-03|2018-09-02|\n",
      "|     Sarah|    Jones| 67|2016-04-07|2017-08-03|2018-10-02|\n",
      "|      John|  Johnson|  6|2018-01-02|2018-10-03|2018-03-02|\n",
      "+----------+---------+---+----------+----------+----------+\n",
      "\n"
     ]
    }
   ],
   "source": [
    "from pyspark.sql.functions import *\n",
    "\n",
    "ageDF = df4.withColumn('dob', floor(datediff(current_date(), df4['dob'])/365))\n",
    "ageDF.show()"
   ]
  },
  {
   "cell_type": "code",
   "execution_count": null,
   "metadata": {},
   "outputs": [],
   "source": [
    "# df4.createOrReplaceTempView(\"res\")\n",
    "# sqlDF = spark.sql(\"SELECT EXTRACT(year from `dob`) FROM res \")\n",
    "# sqlDF.show()"
   ]
  },
  {
   "cell_type": "markdown",
   "metadata": {},
   "source": [
    "## 9. Can you extract the month from the first visit column and call it \"Month\"?"
   ]
  },
  {
   "cell_type": "code",
   "execution_count": 61,
   "metadata": {},
   "outputs": [
    {
     "name": "stdout",
     "output_type": "stream",
     "text": [
      "+----------+---------+----------+------+----------+----------+\n",
      "|first_name|last_name|       dob|visit1|    visit2|    visit3|\n",
      "+----------+---------+----------+------+----------+----------+\n",
      "|  Mohammed|   Alfasy|1987-04-08|     1|2017-02-03|2018-03-02|\n",
      "|     Marcy|Wellmaker|1986-04-08|     1|2017-01-03|2018-01-02|\n",
      "|     Ginny|   Ginger|1986-07-10|     8|2015-02-03|2016-03-02|\n",
      "|     Vijay| Doberson|1988-05-02|     1|2018-02-03|2018-03-02|\n",
      "|     Orhan|  Gelicek|1987-05-11|     5|2017-01-03|2018-09-02|\n",
      "|     Sarah|    Jones|1956-07-06|     4|2017-08-03|2018-10-02|\n",
      "|      John|  Johnson|2017-10-12|     1|2018-10-03|2018-03-02|\n",
      "+----------+---------+----------+------+----------+----------+\n",
      "\n"
     ]
    }
   ],
   "source": [
    "from pyspark.sql.functions import *\n",
    "monthDF = df4.withColumn('visit1', month(df4['visit1']))\n",
    "monthDF.show()"
   ]
  },
  {
   "cell_type": "markdown",
   "metadata": {},
   "source": [
    "## 10. Challenges with working with date and timestamps\n",
    "\n",
    "Let's read in the supermarket sales dataframe attached to the lecture now and see some of the issues that can come up when working with date and timestamps values."
   ]
  },
  {
   "cell_type": "code",
   "execution_count": null,
   "metadata": {},
   "outputs": [],
   "source": []
  },
  {
   "cell_type": "markdown",
   "metadata": {},
   "source": [
    "## About this dataset\n",
    "\n",
    "The growth of supermarkets in most populated cities are increasing and market competitions are also high. The dataset is one of the historical sales of supermarket company which has recorded in 3 different branches for 3 months data. \n",
    "\n",
    " - Attribute information\n",
    " - Invoice id: Computer generated sales slip invoice identification number\n",
    " - Branch: Branch of supercenter (3 branches are available identified by A, B and C).\n",
    " - City: Location of supercenters\n",
    " - Customer type: Type of customers, recorded by Members for customers using member card and Normal for without member card.\n",
    " - Gender: Gender type of customer\n",
    " - Product line: General item categorization groups - Electronic accessories, Fashion accessories, Food and beverages, Health and beauty, Home and lifestyle, Sports and travel\n",
    " - Unit price: Price of each product in USD\n",
    " - Quantity: Number of products purchased by customer\n",
    " - Tax: 5% tax fee for customer buying\n",
    " - Total: Total price including tax\n",
    " - Date: Date of purchase (Record available from January 2019 to March 2019)\n",
    " - Time: Purchase time (10am to 9pm)\n",
    " - Payment: Payment used by customer for purchase (3 methods are available – Cash, Credit card and Ewallet)\n",
    " - COGS: Cost of goods sold\n",
    " - Gross margin percentage: Gross margin percentage\n",
    " - Gross income: Gross income\n",
    " - Rating: Customer stratification rating on their overall shopping experience (On a scale of 1 to 10)\n",
    "\n",
    "**Source:** https://www.kaggle.com/aungpyaeap/supermarket-sales"
   ]
  },
  {
   "cell_type": "markdown",
   "metadata": {},
   "source": [
    "### View dataframe and schema as usual"
   ]
  },
  {
   "cell_type": "code",
   "execution_count": 1,
   "metadata": {},
   "outputs": [],
   "source": [
    "import pyspark\n",
    "from pyspark.sql import SparkSession\n",
    "from pyspark.sql.functions import *"
   ]
  },
  {
   "cell_type": "code",
   "execution_count": 2,
   "metadata": {},
   "outputs": [
    {
     "name": "stdout",
     "output_type": "stream",
     "text": [
      "+-----------+------+---------+-------------+------+--------------------+----------+--------+-------+--------+----------+-----+-----------+------+-----------------------+------------+------+\n",
      "| Invoice ID|Branch|     City|Customer type|Gender|        Product line|Unit price|Quantity| Tax 5%|   Total|      Date| Time|    Payment|  cogs|gross margin percentage|gross income|Rating|\n",
      "+-----------+------+---------+-------------+------+--------------------+----------+--------+-------+--------+----------+-----+-----------+------+-----------------------+------------+------+\n",
      "|750-67-8428|     A|   Yangon|       Member|Female|   Health and beauty|     74.69|       7|26.1415|548.9715|01/05/2019|13:08|    Ewallet|522.83|            4.761904762|     26.1415|   9.1|\n",
      "|226-31-3081|     C|Naypyitaw|       Normal|Female|Electronic access...|     15.28|       5|   3.82|   80.22|03/08/2019|10:29|       Cash|  76.4|            4.761904762|        3.82|   9.6|\n",
      "|631-41-3108|     A|   Yangon|       Normal|  Male|  Home and lifestyle|     46.33|       7|16.2155|340.5255|03/03/2019|13:23|Credit card|324.31|            4.761904762|     16.2155|   7.4|\n",
      "|123-19-1176|     A|   Yangon|       Member|  Male|   Health and beauty|     58.22|       8| 23.288| 489.048| 1/27/2019|20:33|    Ewallet|465.76|            4.761904762|      23.288|   8.4|\n",
      "|373-73-7910|     A|   Yangon|       Normal|  Male|   Sports and travel|     86.31|       7|30.2085|634.3785|02/08/2019|10:37|    Ewallet|604.17|            4.761904762|     30.2085|   5.3|\n",
      "|699-14-3026|     C|Naypyitaw|       Normal|  Male|Electronic access...|     85.39|       7|29.8865|627.6165| 3/25/2019|18:30|    Ewallet|597.73|            4.761904762|     29.8865|   4.1|\n",
      "|355-53-5943|     A|   Yangon|       Member|Female|Electronic access...|     68.84|       6| 20.652| 433.692| 2/25/2019|14:36|    Ewallet|413.04|            4.761904762|      20.652|   5.8|\n",
      "|315-22-5665|     C|Naypyitaw|       Normal|Female|  Home and lifestyle|     73.56|      10|  36.78|  772.38| 2/24/2019|11:38|    Ewallet| 735.6|            4.761904762|       36.78|     8|\n",
      "|665-32-9167|     A|   Yangon|       Member|Female|   Health and beauty|     36.26|       2|  3.626|  76.146|01/10/2019|17:15|Credit card| 72.52|            4.761904762|       3.626|   7.2|\n",
      "|692-92-5582|     B| Mandalay|       Member|Female|  Food and beverages|     54.84|       3|  8.226| 172.746| 2/20/2019|13:27|Credit card|164.52|            4.761904762|       8.226|   5.9|\n",
      "|351-62-0822|     B| Mandalay|       Member|Female| Fashion accessories|     14.48|       4|  2.896|  60.816|02/06/2019|18:07|    Ewallet| 57.92|            4.761904762|       2.896|   4.5|\n",
      "|529-56-3974|     B| Mandalay|       Member|  Male|Electronic access...|     25.51|       4|  5.102| 107.142|03/09/2019|17:03|       Cash|102.04|            4.761904762|       5.102|   6.8|\n",
      "|365-64-0515|     A|   Yangon|       Normal|Female|Electronic access...|     46.95|       5|11.7375|246.4875|02/12/2019|10:25|    Ewallet|234.75|            4.761904762|     11.7375|   7.1|\n",
      "|252-56-2699|     A|   Yangon|       Normal|  Male|  Food and beverages|     43.19|      10| 21.595| 453.495|02/07/2019|16:48|    Ewallet| 431.9|            4.761904762|      21.595|   8.2|\n",
      "|829-34-3910|     A|   Yangon|       Normal|Female|   Health and beauty|     71.38|      10|  35.69|  749.49| 3/29/2019|19:21|       Cash| 713.8|            4.761904762|       35.69|   5.7|\n",
      "|299-46-1805|     B| Mandalay|       Member|Female|   Sports and travel|     93.72|       6| 28.116| 590.436| 1/15/2019|16:19|       Cash|562.32|            4.761904762|      28.116|   4.5|\n",
      "|656-95-9349|     A|   Yangon|       Member|Female|   Health and beauty|     68.93|       7|24.1255|506.6355|03/11/2019|11:03|Credit card|482.51|            4.761904762|     24.1255|   4.6|\n",
      "|765-26-6951|     A|   Yangon|       Normal|  Male|   Sports and travel|     72.61|       6| 21.783| 457.443|01/01/2019|10:39|Credit card|435.66|            4.761904762|      21.783|   6.9|\n",
      "|329-62-1586|     A|   Yangon|       Normal|  Male|  Food and beverages|     54.67|       3| 8.2005|172.2105| 1/21/2019|18:00|Credit card|164.01|            4.761904762|      8.2005|   8.6|\n",
      "|319-50-3348|     B| Mandalay|       Normal|Female|  Home and lifestyle|      40.3|       2|   4.03|   84.63|03/11/2019|15:30|    Ewallet|  80.6|            4.761904762|        4.03|   4.4|\n",
      "+-----------+------+---------+-------------+------+--------------------+----------+--------+-------+--------+----------+-----+-----------+------+-----------------------+------------+------+\n",
      "only showing top 20 rows\n",
      "\n"
     ]
    }
   ],
   "source": [
    "newspark = SparkSession.builder.getOrCreate()\n",
    "supermarket = newspark.read.csv(\"supermarket_sales - Sheet1.csv\", header=True)\n",
    "supermarket.show(truncate=True)"
   ]
  },
  {
   "cell_type": "code",
   "execution_count": 3,
   "metadata": {
    "tags": []
   },
   "outputs": [
    {
     "name": "stdout",
     "output_type": "stream",
     "text": [
      "root\n",
      " |-- Invoice ID: string (nullable = true)\n",
      " |-- Branch: string (nullable = true)\n",
      " |-- City: string (nullable = true)\n",
      " |-- Customer type: string (nullable = true)\n",
      " |-- Gender: string (nullable = true)\n",
      " |-- Product line: string (nullable = true)\n",
      " |-- Unit price: string (nullable = true)\n",
      " |-- Quantity: string (nullable = true)\n",
      " |-- Tax 5%: string (nullable = true)\n",
      " |-- Total: string (nullable = true)\n",
      " |-- Date: string (nullable = true)\n",
      " |-- Time: string (nullable = true)\n",
      " |-- Payment: string (nullable = true)\n",
      " |-- cogs: string (nullable = true)\n",
      " |-- gross margin percentage: string (nullable = true)\n",
      " |-- gross income: string (nullable = true)\n",
      " |-- Rating: string (nullable = true)\n",
      "\n"
     ]
    }
   ],
   "source": [
    "supermarket.printSchema()"
   ]
  },
  {
   "cell_type": "markdown",
   "metadata": {},
   "source": [
    "### Convert date field to date type\n",
    "\n",
    "Looks like we need to convert the date field into a date type. Let's go ahead and do that.."
   ]
  },
  {
   "cell_type": "code",
   "execution_count": 4,
   "metadata": {},
   "outputs": [
    {
     "name": "stdout",
     "output_type": "stream",
     "text": [
      "+-----------+------+---------+-------------+------+--------------------+----------+--------+-------+--------+----+-----+-----------+------+-----------------------+------------+------+\n",
      "| Invoice ID|Branch|     City|Customer type|Gender|        Product line|Unit price|Quantity| Tax 5%|   Total|Date| Time|    Payment|  cogs|gross margin percentage|gross income|Rating|\n",
      "+-----------+------+---------+-------------+------+--------------------+----------+--------+-------+--------+----+-----+-----------+------+-----------------------+------------+------+\n",
      "|750-67-8428|     A|   Yangon|       Member|Female|   Health and beauty|     74.69|       7|26.1415|548.9715|NULL|13:08|    Ewallet|522.83|            4.761904762|     26.1415|   9.1|\n",
      "|226-31-3081|     C|Naypyitaw|       Normal|Female|Electronic access...|     15.28|       5|   3.82|   80.22|NULL|10:29|       Cash|  76.4|            4.761904762|        3.82|   9.6|\n",
      "|631-41-3108|     A|   Yangon|       Normal|  Male|  Home and lifestyle|     46.33|       7|16.2155|340.5255|NULL|13:23|Credit card|324.31|            4.761904762|     16.2155|   7.4|\n",
      "|123-19-1176|     A|   Yangon|       Member|  Male|   Health and beauty|     58.22|       8| 23.288| 489.048|NULL|20:33|    Ewallet|465.76|            4.761904762|      23.288|   8.4|\n",
      "|373-73-7910|     A|   Yangon|       Normal|  Male|   Sports and travel|     86.31|       7|30.2085|634.3785|NULL|10:37|    Ewallet|604.17|            4.761904762|     30.2085|   5.3|\n",
      "|699-14-3026|     C|Naypyitaw|       Normal|  Male|Electronic access...|     85.39|       7|29.8865|627.6165|NULL|18:30|    Ewallet|597.73|            4.761904762|     29.8865|   4.1|\n",
      "|355-53-5943|     A|   Yangon|       Member|Female|Electronic access...|     68.84|       6| 20.652| 433.692|NULL|14:36|    Ewallet|413.04|            4.761904762|      20.652|   5.8|\n",
      "|315-22-5665|     C|Naypyitaw|       Normal|Female|  Home and lifestyle|     73.56|      10|  36.78|  772.38|NULL|11:38|    Ewallet| 735.6|            4.761904762|       36.78|     8|\n",
      "|665-32-9167|     A|   Yangon|       Member|Female|   Health and beauty|     36.26|       2|  3.626|  76.146|NULL|17:15|Credit card| 72.52|            4.761904762|       3.626|   7.2|\n",
      "|692-92-5582|     B| Mandalay|       Member|Female|  Food and beverages|     54.84|       3|  8.226| 172.746|NULL|13:27|Credit card|164.52|            4.761904762|       8.226|   5.9|\n",
      "|351-62-0822|     B| Mandalay|       Member|Female| Fashion accessories|     14.48|       4|  2.896|  60.816|NULL|18:07|    Ewallet| 57.92|            4.761904762|       2.896|   4.5|\n",
      "|529-56-3974|     B| Mandalay|       Member|  Male|Electronic access...|     25.51|       4|  5.102| 107.142|NULL|17:03|       Cash|102.04|            4.761904762|       5.102|   6.8|\n",
      "|365-64-0515|     A|   Yangon|       Normal|Female|Electronic access...|     46.95|       5|11.7375|246.4875|NULL|10:25|    Ewallet|234.75|            4.761904762|     11.7375|   7.1|\n",
      "|252-56-2699|     A|   Yangon|       Normal|  Male|  Food and beverages|     43.19|      10| 21.595| 453.495|NULL|16:48|    Ewallet| 431.9|            4.761904762|      21.595|   8.2|\n",
      "|829-34-3910|     A|   Yangon|       Normal|Female|   Health and beauty|     71.38|      10|  35.69|  749.49|NULL|19:21|       Cash| 713.8|            4.761904762|       35.69|   5.7|\n",
      "|299-46-1805|     B| Mandalay|       Member|Female|   Sports and travel|     93.72|       6| 28.116| 590.436|NULL|16:19|       Cash|562.32|            4.761904762|      28.116|   4.5|\n",
      "|656-95-9349|     A|   Yangon|       Member|Female|   Health and beauty|     68.93|       7|24.1255|506.6355|NULL|11:03|Credit card|482.51|            4.761904762|     24.1255|   4.6|\n",
      "|765-26-6951|     A|   Yangon|       Normal|  Male|   Sports and travel|     72.61|       6| 21.783| 457.443|NULL|10:39|Credit card|435.66|            4.761904762|      21.783|   6.9|\n",
      "|329-62-1586|     A|   Yangon|       Normal|  Male|  Food and beverages|     54.67|       3| 8.2005|172.2105|NULL|18:00|Credit card|164.01|            4.761904762|      8.2005|   8.6|\n",
      "|319-50-3348|     B| Mandalay|       Normal|Female|  Home and lifestyle|      40.3|       2|   4.03|   84.63|NULL|15:30|    Ewallet|  80.6|            4.761904762|        4.03|   4.4|\n",
      "+-----------+------+---------+-------------+------+--------------------+----------+--------+-------+--------+----+-----+-----------+------+-----------------------+------------+------+\n",
      "only showing top 20 rows\n",
      "\n"
     ]
    }
   ],
   "source": [
    "# new_supermarket = supermarket.withColumn('Date',col('Date').cast(DateType())) cast khong hieu qua neu muon chuyen tu string sang date\n",
    "# new_supermarket = supermarket.withColumn(\"Date\",to_date(supermarket['Date']))\n",
    "# new_supermarket.show()\n",
    "from pyspark.sql.functions import to_date, col, when\n",
    "\n",
    "# Assuming 'supermarket' is your DataFrame containing the data\n",
    "new_supermarket = supermarket.withColumn(\"Date\", when(col(\"Date\").cast(\"date\").isNotNull(), col(\"Date\").cast(\"date\")).otherwise(to_date(col(\"Date\"))))\n",
    "\n",
    "new_supermarket.show()\n"
   ]
  },
  {
   "cell_type": "code",
   "execution_count": 5,
   "metadata": {
    "tags": []
   },
   "outputs": [
    {
     "name": "stdout",
     "output_type": "stream",
     "text": [
      "root\n",
      " |-- Invoice ID: string (nullable = true)\n",
      " |-- Branch: string (nullable = true)\n",
      " |-- City: string (nullable = true)\n",
      " |-- Customer type: string (nullable = true)\n",
      " |-- Gender: string (nullable = true)\n",
      " |-- Product line: string (nullable = true)\n",
      " |-- Unit price: string (nullable = true)\n",
      " |-- Quantity: string (nullable = true)\n",
      " |-- Tax 5%: string (nullable = true)\n",
      " |-- Total: string (nullable = true)\n",
      " |-- Date: date (nullable = true)\n",
      " |-- Time: string (nullable = true)\n",
      " |-- Payment: string (nullable = true)\n",
      " |-- cogs: string (nullable = true)\n",
      " |-- gross margin percentage: string (nullable = true)\n",
      " |-- gross income: string (nullable = true)\n",
      " |-- Rating: string (nullable = true)\n",
      "\n"
     ]
    }
   ],
   "source": [
    "new_supermarket.printSchema()"
   ]
  },
  {
   "cell_type": "markdown",
   "metadata": {},
   "source": [
    "### How can we extract the month value from the date field?\n",
    "\n",
    "If you had trouble converting the date field in the previous question think about a more creative solution to extract the month from that field."
   ]
  },
  {
   "cell_type": "code",
   "execution_count": 6,
   "metadata": {},
   "outputs": [
    {
     "name": "stdout",
     "output_type": "stream",
     "text": [
      "+-----+\n",
      "|Month|\n",
      "+-----+\n",
      "| NULL|\n",
      "| NULL|\n",
      "| NULL|\n",
      "| NULL|\n",
      "| NULL|\n",
      "| NULL|\n",
      "| NULL|\n",
      "| NULL|\n",
      "| NULL|\n",
      "| NULL|\n",
      "| NULL|\n",
      "| NULL|\n",
      "| NULL|\n",
      "| NULL|\n",
      "| NULL|\n",
      "| NULL|\n",
      "| NULL|\n",
      "| NULL|\n",
      "| NULL|\n",
      "| NULL|\n",
      "+-----+\n",
      "only showing top 20 rows\n",
      "\n"
     ]
    }
   ],
   "source": [
    "from pyspark.sql.functions import *\n",
    "supermarket_monthDF = new_supermarket.withColumn('Month', month(new_supermarket['Date']))\n",
    "supermarket_monthDF.select(col('Month')).show()"
   ]
  },
  {
   "cell_type": "markdown",
   "metadata": {},
   "source": [
    "## 11.0 Working with Arrays\n",
    "\n",
    "Here is a dataframe of reviews from the movie the Dark Night."
   ]
  },
  {
   "cell_type": "code",
   "execution_count": 22,
   "metadata": {},
   "outputs": [
    {
     "name": "stdout",
     "output_type": "stream",
     "text": [
      "+------+--------------------------------------------------------------------------------------+\n",
      "|rating|review_txt                                                                            |\n",
      "+------+--------------------------------------------------------------------------------------+\n",
      "|5     |Epic. This is the best movie I have EVER seen                                         |\n",
      "|4     |Pretty good, but I would have liked to seen better special effects                    |\n",
      "|3     |So so. Casting could have been improved                                               |\n",
      "|5     |The most EPIC movie of the year! Casting was awesome. Special effects were so intense.|\n",
      "|4     |Solid but I would have liked to see more of the love story                            |\n",
      "|5     |THE BOMB!!!!!!!                                                                       |\n",
      "+------+--------------------------------------------------------------------------------------+\n",
      "\n"
     ]
    }
   ],
   "source": [
    "from pyspark.sql.functions import *\n",
    "\n",
    "values = [(5,'Epic. This is the best movie I have EVER seen'), \\\n",
    "          (4,'Pretty good, but I would have liked to seen better special effects'), \\\n",
    "          (3,'So so. Casting could have been improved'), \\\n",
    "          (5,'The most EPIC movie of the year! Casting was awesome. Special effects were so intense.'), \\\n",
    "          (4,'Solid but I would have liked to see more of the love story'), \\\n",
    "          (5,'THE BOMB!!!!!!!')]\n",
    "reviews = spark.createDataFrame(values,['rating', 'review_txt'])\n",
    "\n",
    "reviews.show(6,False)"
   ]
  },
  {
   "cell_type": "markdown",
   "metadata": {},
   "source": [
    "## 11.1 Let's see if we can create an array off of the review text column and then derive some meaningful results from it.\n",
    "\n",
    "**But first** we need to clean the rview_txt column to make sure we can get what we need from our analysis later on. So let's do the following:\n",
    "\n",
    "1. Remove all punctuation\n",
    "2. lower case everything\n",
    "3. Remove white space (trim)\n",
    "3. Then finally, split the string"
   ]
  },
  {
   "cell_type": "code",
   "execution_count": 23,
   "metadata": {},
   "outputs": [
    {
     "name": "stdout",
     "output_type": "stream",
     "text": [
      "+------+---------------------------------------------------------------------------------------------------+\n",
      "|rating|review_words                                                                                       |\n",
      "+------+---------------------------------------------------------------------------------------------------+\n",
      "|5     |[epic, this, is, the, best, movie, i, have, ever, seen]                                            |\n",
      "|4     |[pretty, good, but, i, would, have, liked, to, seen, better, special, effects]                     |\n",
      "|3     |[so, so, casting, could, have, been, improved]                                                     |\n",
      "|5     |[the, most, epic, movie, of, the, year, casting, was, awesome, special, effects, were, so, intense]|\n",
      "|4     |[solid, but, i, would, have, liked, to, see, more, of, the, love, story]                           |\n",
      "|5     |[the, bomb]                                                                                        |\n",
      "+------+---------------------------------------------------------------------------------------------------+\n",
      "\n"
     ]
    }
   ],
   "source": [
    "from pyspark.sql.functions import col, lower, trim, regexp_replace, split\n",
    "\n",
    "# Remove punctuation, lower case, and trim whitespace\n",
    "clean_reviews = reviews.withColumn(\"clean_review_txt\", trim(lower(regexp_replace(col(\"review_txt\"), \"[^a-zA-Z0-9\\\\s]\", \"\"))))\n",
    "\n",
    "# Split the cleaned text into an array of words\n",
    "clean_reviews = clean_reviews.withColumn(\"review_words\", split(col(\"clean_review_txt\"), \"\\\\s+\"))\n",
    "\n",
    "clean_reviews.select(\"rating\", \"review_words\").show(truncate=False)\n"
   ]
  },
  {
   "cell_type": "code",
   "execution_count": null,
   "metadata": {
    "tags": []
   },
   "outputs": [],
   "source": []
  },
  {
   "cell_type": "markdown",
   "metadata": {},
   "source": [
    "## 11.2 Alright now let's see if we can find which reviews contain the word 'Epic'"
   ]
  },
  {
   "cell_type": "code",
   "execution_count": null,
   "metadata": {},
   "outputs": [],
   "source": [
    "from pyspark.sql.functions import array_contains\n",
    "\n",
    "# Filter reviews containing the word 'Epic'\n",
    "epic_reviews = clean_reviews.filter(array_contains(col(\"review_words\"), \"epic\"))\n",
    "\n",
    "# Show the filtered reviews\n",
    "epic_reviews.select(\"rating\", \"review_txt\").show(truncate=False)\n"
   ]
  },
  {
   "cell_type": "markdown",
   "metadata": {},
   "source": [
    "### That's it! Great Job!"
   ]
  }
 ],
 "metadata": {
  "kernelspec": {
   "display_name": "Python 3 (ipykernel)",
   "language": "python",
   "name": "python3"
  },
  "language_info": {
   "codemirror_mode": {
    "name": "ipython",
    "version": 3
   },
   "file_extension": ".py",
   "mimetype": "text/x-python",
   "name": "python",
   "nbconvert_exporter": "python",
   "pygments_lexer": "ipython3",
   "version": "3.11.5"
  }
 },
 "nbformat": 4,
 "nbformat_minor": 4
}
